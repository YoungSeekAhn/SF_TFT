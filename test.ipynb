{
 "cells": [
  {
   "cell_type": "code",
   "execution_count": 1,
   "id": "f3601b55",
   "metadata": {},
   "outputs": [],
   "source": [
    "import yfinance as yf"
   ]
  },
  {
   "cell_type": "code",
   "execution_count": 27,
   "id": "a57b4429",
   "metadata": {},
   "outputs": [
    {
     "name": "stdout",
     "output_type": "stream",
     "text": [
      "                                        <HTML><HEAD>\n",
      "0                       <TITLE>Access Denied</TITLE>\n",
      "1                                      </HEAD><BODY>\n",
      "2                             <H1>Access Denied</H1>\n",
      "3  You don't have permission to access \"http&#58;...\n",
      "4  Reference&#32;&#35;18&#46;26ad2c17&#46;1754550...\n"
     ]
    }
   ],
   "source": [
    "import requests\n",
    "import pandas as pd\n",
    "from io import BytesIO\n",
    "\n",
    "def get_gics_classification(trading_day: str) -> pd.DataFrame:\n",
    "    \"\"\"\n",
    "    KRX API를 통해 GICS 산업분류(산업별현황) 테이블을 가져옵니다.\n",
    "    \n",
    "    Args:\n",
    "        trading_day (str): 조회 기준일 ('YYYYMMDD' 형식)\n",
    "    Returns:\n",
    "        pd.DataFrame: GICS Sector, Industry Group, Industry, Sub-Industry 등 분류 정보\n",
    "    \"\"\"\n",
    "    # 1) OTP 생성 요청 URL\n",
    "    gen_otp_url = \"http://data.krx.co.kr/comm/fileDn/GenerateOTP/generate.cmd\"\n",
    "    # 2) OTP 요청 파라미터 (네트워크 탭에서 확인한 'url' 값으로 변경)\n",
    "    gen_otp_data = {\n",
    "        # trading_day는 대부분의 기본 통계 메뉴에서 필수 파라미터입니다\n",
    "        \"trdDd\": trading_day,\n",
    "        # name, csvxls_isNo 고정\n",
    "        \"name\": \"fileDown\",\n",
    "        \"csvxls_isNo\": \"false\",\n",
    "        # 여기를 실제 GICS 산업분류용 서비스 코드로 바꿔주세요\n",
    "        \"url\": \"dbms/MDC/MDI/industry/MDCMDI03401\"\n",
    "    }\n",
    "    # 3) Referer 헤더 (해당 메뉴 URL)\n",
    "    headers = {\n",
    "        \"Referer\": \"https://index.krx.co.kr/Index/Index?menuId=MDC0201010401\"\n",
    "    }\n",
    "    # OTP(일회용 토큰) 받기\n",
    "    otp = requests.post(gen_otp_url, data=gen_otp_data, headers=headers).text\n",
    "\n",
    "    # 4) 받은 OTP로 CSV 다운로드\n",
    "    download_url = \"http://data.krx.co.kr/comm/fileDn/download_csv/download.cmd\"\n",
    "    resp = requests.post(download_url, data={\"code\": otp}, headers=headers)\n",
    "    # EUC-KR 인코딩된 CSV를 DataFrame으로 변환\n",
    "    df = pd.read_csv(BytesIO(resp.content), encoding=\"euc-kr\")\n",
    "    return df\n",
    "\n",
    "if __name__ == \"__main__\":\n",
    "    # 예: 20250807 기준 데이터\n",
    "    gics_df = get_gics_classification(\"20250807\")\n",
    "    print(gics_df.head())"
   ]
  },
  {
   "cell_type": "code",
   "execution_count": 34,
   "id": "36591ba0",
   "metadata": {},
   "outputs": [],
   "source": [
    "# 1) OTP 생성 요청 URL\n",
    "trading_day = \"20250807\"\n",
    "\n",
    "gen_otp_url = \"http://data.krx.co.kr/comm/fileDn/GenerateOTP/generate.cmd\"\n",
    "# 2) OTP 요청 파라미터 (네트워크 탭에서 확인한 'url' 값으로 변경)\n",
    "gen_otp_data = {\n",
    "    # trading_day는 대부분의 기본 통계 메뉴에서 필수 파라미터입니다\n",
    "    \"trdDd\": trading_day,\n",
    "    # name, csvxls_isNo 고정\n",
    "    \"name\": \"fileDown\",\n",
    "    \"csvxls_isNo\": \"false\",\n",
    "    # 여기를 실제 GICS 산업분류용 서비스 코드로 바꿔주세요\n",
    "    \"url\": \"dbms/MDC/MDI/industry/MDCMDI03401\"\n",
    "}\n",
    "headers = {\n",
    "    \"Referer\": \"https://index.krx.co.kr/Index/Index?menuId=MDC0201010401\"\n",
    "}\n",
    "otp = requests.post(gen_otp_url, data=gen_otp_data, headers=headers).text\n",
    "otp\n",
    "\n",
    "download_url = \"http://data.krx.co.kr/comm/fileDn/download_csv/download.cmd\"\n",
    "resp = requests.post(download_url, data={\"code\": otp}, headers=headers)\n",
    "df = pd.read_csv(BytesIO(resp.content), encoding=\"euc-kr\")\n",
    "# EUC-KR 인코딩된 CSV를 DataFrame으로 변환"
   ]
  },
  {
   "cell_type": "code",
   "execution_count": 35,
   "id": "3ecac254",
   "metadata": {},
   "outputs": [
    {
     "data": {
      "text/html": [
       "<div>\n",
       "<style scoped>\n",
       "    .dataframe tbody tr th:only-of-type {\n",
       "        vertical-align: middle;\n",
       "    }\n",
       "\n",
       "    .dataframe tbody tr th {\n",
       "        vertical-align: top;\n",
       "    }\n",
       "\n",
       "    .dataframe thead th {\n",
       "        text-align: right;\n",
       "    }\n",
       "</style>\n",
       "<table border=\"1\" class=\"dataframe\">\n",
       "  <thead>\n",
       "    <tr style=\"text-align: right;\">\n",
       "      <th></th>\n",
       "      <th>&lt;HTML&gt;&lt;HEAD&gt;</th>\n",
       "    </tr>\n",
       "  </thead>\n",
       "  <tbody>\n",
       "    <tr>\n",
       "      <th>0</th>\n",
       "      <td>&lt;TITLE&gt;Access Denied&lt;/TITLE&gt;</td>\n",
       "    </tr>\n",
       "    <tr>\n",
       "      <th>1</th>\n",
       "      <td>&lt;/HEAD&gt;&lt;BODY&gt;</td>\n",
       "    </tr>\n",
       "    <tr>\n",
       "      <th>2</th>\n",
       "      <td>&lt;H1&gt;Access Denied&lt;/H1&gt;</td>\n",
       "    </tr>\n",
       "    <tr>\n",
       "      <th>3</th>\n",
       "      <td>You don't have permission to access \"http&amp;#58;...</td>\n",
       "    </tr>\n",
       "    <tr>\n",
       "      <th>4</th>\n",
       "      <td>Reference&amp;#32;&amp;#35;18&amp;#46;8e023517&amp;#46;1754550...</td>\n",
       "    </tr>\n",
       "  </tbody>\n",
       "</table>\n",
       "</div>"
      ],
      "text/plain": [
       "                                        <HTML><HEAD>\n",
       "0                       <TITLE>Access Denied</TITLE>\n",
       "1                                      </HEAD><BODY>\n",
       "2                             <H1>Access Denied</H1>\n",
       "3  You don't have permission to access \"http&#58;...\n",
       "4  Reference&#32;&#35;18&#46;8e023517&#46;1754550..."
      ]
     },
     "execution_count": 35,
     "metadata": {},
     "output_type": "execute_result"
    }
   ],
   "source": [
    "df.head()"
   ]
  },
  {
   "cell_type": "code",
   "execution_count": 15,
   "id": "5e6892e1",
   "metadata": {},
   "outputs": [
    {
     "name": "stdout",
     "output_type": "stream",
     "text": [
      "['날짜', '종가', '전일비', '시가', '고가', '저가', '거래량']\n"
     ]
    },
    {
     "ename": "ValueError",
     "evalue": "Length mismatch: Expected axis has 7 elements, new values have 10 elements",
     "output_type": "error",
     "traceback": [
      "\u001b[31m---------------------------------------------------------------------------\u001b[39m",
      "\u001b[31mValueError\u001b[39m                                Traceback (most recent call last)",
      "\u001b[36mCell\u001b[39m\u001b[36m \u001b[39m\u001b[32mIn[15]\u001b[39m\u001b[32m, line 49\u001b[39m\n\u001b[32m     46\u001b[39m     data = data.sort_values(by=\u001b[33m'\u001b[39m\u001b[33mDate\u001b[39m\u001b[33m'\u001b[39m, ascending=\u001b[38;5;28;01mFalse\u001b[39;00m).reset_index(drop=\u001b[38;5;28;01mTrue\u001b[39;00m)\n\u001b[32m     47\u001b[39m     \u001b[38;5;28;01mreturn\u001b[39;00m data\n\u001b[32m---> \u001b[39m\u001b[32m49\u001b[39m results = \u001b[43mget_total_pages\u001b[49m\u001b[43m(\u001b[49m\u001b[43mcode\u001b[49m\u001b[43m,\u001b[49m\u001b[32;43m5\u001b[39;49m\u001b[43m)\u001b[49m\n\u001b[32m     50\u001b[39m results.head(\u001b[32m5\u001b[39m)\n\u001b[32m     51\u001b[39m \u001b[38;5;28mprint\u001b[39m(\u001b[33mf\u001b[39m\u001b[33m\"\u001b[39m\u001b[33m수집된 전체 일수: \u001b[39m\u001b[38;5;132;01m{\u001b[39;00m\u001b[38;5;28mlen\u001b[39m(results)\u001b[38;5;132;01m}\u001b[39;00m\u001b[33m\"\u001b[39m)\n",
      "\u001b[36mCell\u001b[39m\u001b[36m \u001b[39m\u001b[32mIn[15]\u001b[39m\u001b[32m, line 40\u001b[39m, in \u001b[36mget_total_pages\u001b[39m\u001b[34m(code, pages)\u001b[39m\n\u001b[32m     38\u001b[39m \u001b[38;5;28mprint\u001b[39m(colnames)\n\u001b[32m     39\u001b[39m \u001b[38;5;66;03m# 컬럼명 한글 → 영문 변환\u001b[39;00m\n\u001b[32m---> \u001b[39m\u001b[32m40\u001b[39m \u001b[43mdata\u001b[49m\u001b[43m.\u001b[49m\u001b[43mcolumns\u001b[49m = [\n\u001b[32m     41\u001b[39m     \u001b[33m'\u001b[39m\u001b[33mDate\u001b[39m\u001b[33m'\u001b[39m, \u001b[33m'\u001b[39m\u001b[33mClose\u001b[39m\u001b[33m'\u001b[39m, \u001b[33m'\u001b[39m\u001b[33mChange\u001b[39m\u001b[33m'\u001b[39m, \u001b[33m'\u001b[39m\u001b[33mVolume\u001b[39m\u001b[33m'\u001b[39m,\n\u001b[32m     42\u001b[39m     \u001b[33m'\u001b[39m\u001b[33mForeign_Holdings\u001b[39m\u001b[33m'\u001b[39m, \u001b[33m'\u001b[39m\u001b[33mForeign_Holdings_Ratio\u001b[39m\u001b[33m'\u001b[39m,\n\u001b[32m     43\u001b[39m     \u001b[33m'\u001b[39m\u001b[33mForeign_Net\u001b[39m\u001b[33m'\u001b[39m, \u001b[33m'\u001b[39m\u001b[33mInstitution_Net\u001b[39m\u001b[33m'\u001b[39m, \u001b[33m'\u001b[39m\u001b[33mIndividual_Net\u001b[39m\u001b[33m'\u001b[39m, \u001b[33m'\u001b[39m\u001b[33mTotal_Net\u001b[39m\u001b[33m'\u001b[39m\n\u001b[32m     44\u001b[39m ]\n\u001b[32m     45\u001b[39m data[\u001b[33m'\u001b[39m\u001b[33mDate\u001b[39m\u001b[33m'\u001b[39m] = pd.to_datetime(data[\u001b[33m'\u001b[39m\u001b[33mDate\u001b[39m\u001b[33m'\u001b[39m])\n\u001b[32m     46\u001b[39m data = data.sort_values(by=\u001b[33m'\u001b[39m\u001b[33mDate\u001b[39m\u001b[33m'\u001b[39m, ascending=\u001b[38;5;28;01mFalse\u001b[39;00m).reset_index(drop=\u001b[38;5;28;01mTrue\u001b[39;00m)\n",
      "\u001b[36mFile \u001b[39m\u001b[32m~\\AppData\\Local\\Packages\\PythonSoftwareFoundation.Python.3.12_qbz5n2kfra8p0\\LocalCache\\local-packages\\Python312\\site-packages\\pandas\\core\\generic.py:6332\u001b[39m, in \u001b[36mNDFrame.__setattr__\u001b[39m\u001b[34m(self, name, value)\u001b[39m\n\u001b[32m   6330\u001b[39m \u001b[38;5;28;01mtry\u001b[39;00m:\n\u001b[32m   6331\u001b[39m     \u001b[38;5;28mobject\u001b[39m.\u001b[34m__getattribute__\u001b[39m(\u001b[38;5;28mself\u001b[39m, name)\n\u001b[32m-> \u001b[39m\u001b[32m6332\u001b[39m     \u001b[38;5;28;01mreturn\u001b[39;00m \u001b[38;5;28;43mobject\u001b[39;49m\u001b[43m.\u001b[49m\u001b[34;43m__setattr__\u001b[39;49m\u001b[43m(\u001b[49m\u001b[38;5;28;43mself\u001b[39;49m\u001b[43m,\u001b[49m\u001b[43m \u001b[49m\u001b[43mname\u001b[49m\u001b[43m,\u001b[49m\u001b[43m \u001b[49m\u001b[43mvalue\u001b[49m\u001b[43m)\u001b[49m\n\u001b[32m   6333\u001b[39m \u001b[38;5;28;01mexcept\u001b[39;00m \u001b[38;5;167;01mAttributeError\u001b[39;00m:\n\u001b[32m   6334\u001b[39m     \u001b[38;5;28;01mpass\u001b[39;00m\n",
      "\u001b[36mFile \u001b[39m\u001b[32mpandas/_libs/properties.pyx:69\u001b[39m, in \u001b[36mpandas._libs.properties.AxisProperty.__set__\u001b[39m\u001b[34m()\u001b[39m\n",
      "\u001b[36mFile \u001b[39m\u001b[32m~\\AppData\\Local\\Packages\\PythonSoftwareFoundation.Python.3.12_qbz5n2kfra8p0\\LocalCache\\local-packages\\Python312\\site-packages\\pandas\\core\\generic.py:814\u001b[39m, in \u001b[36mNDFrame._set_axis\u001b[39m\u001b[34m(self, axis, labels)\u001b[39m\n\u001b[32m    809\u001b[39m \u001b[38;5;250m\u001b[39m\u001b[33;03m\"\"\"\u001b[39;00m\n\u001b[32m    810\u001b[39m \u001b[33;03mThis is called from the cython code when we set the `index` attribute\u001b[39;00m\n\u001b[32m    811\u001b[39m \u001b[33;03mdirectly, e.g. `series.index = [1, 2, 3]`.\u001b[39;00m\n\u001b[32m    812\u001b[39m \u001b[33;03m\"\"\"\u001b[39;00m\n\u001b[32m    813\u001b[39m labels = ensure_index(labels)\n\u001b[32m--> \u001b[39m\u001b[32m814\u001b[39m \u001b[38;5;28;43mself\u001b[39;49m\u001b[43m.\u001b[49m\u001b[43m_mgr\u001b[49m\u001b[43m.\u001b[49m\u001b[43mset_axis\u001b[49m\u001b[43m(\u001b[49m\u001b[43maxis\u001b[49m\u001b[43m,\u001b[49m\u001b[43m \u001b[49m\u001b[43mlabels\u001b[49m\u001b[43m)\u001b[49m\n\u001b[32m    815\u001b[39m \u001b[38;5;28mself\u001b[39m._clear_item_cache()\n",
      "\u001b[36mFile \u001b[39m\u001b[32m~\\AppData\\Local\\Packages\\PythonSoftwareFoundation.Python.3.12_qbz5n2kfra8p0\\LocalCache\\local-packages\\Python312\\site-packages\\pandas\\core\\internals\\managers.py:238\u001b[39m, in \u001b[36mBaseBlockManager.set_axis\u001b[39m\u001b[34m(self, axis, new_labels)\u001b[39m\n\u001b[32m    236\u001b[39m \u001b[38;5;28;01mdef\u001b[39;00m\u001b[38;5;250m \u001b[39m\u001b[34mset_axis\u001b[39m(\u001b[38;5;28mself\u001b[39m, axis: AxisInt, new_labels: Index) -> \u001b[38;5;28;01mNone\u001b[39;00m:\n\u001b[32m    237\u001b[39m     \u001b[38;5;66;03m# Caller is responsible for ensuring we have an Index object.\u001b[39;00m\n\u001b[32m--> \u001b[39m\u001b[32m238\u001b[39m     \u001b[38;5;28;43mself\u001b[39;49m\u001b[43m.\u001b[49m\u001b[43m_validate_set_axis\u001b[49m\u001b[43m(\u001b[49m\u001b[43maxis\u001b[49m\u001b[43m,\u001b[49m\u001b[43m \u001b[49m\u001b[43mnew_labels\u001b[49m\u001b[43m)\u001b[49m\n\u001b[32m    239\u001b[39m     \u001b[38;5;28mself\u001b[39m.axes[axis] = new_labels\n",
      "\u001b[36mFile \u001b[39m\u001b[32m~\\AppData\\Local\\Packages\\PythonSoftwareFoundation.Python.3.12_qbz5n2kfra8p0\\LocalCache\\local-packages\\Python312\\site-packages\\pandas\\core\\internals\\base.py:98\u001b[39m, in \u001b[36mDataManager._validate_set_axis\u001b[39m\u001b[34m(self, axis, new_labels)\u001b[39m\n\u001b[32m     95\u001b[39m     \u001b[38;5;28;01mpass\u001b[39;00m\n\u001b[32m     97\u001b[39m \u001b[38;5;28;01melif\u001b[39;00m new_len != old_len:\n\u001b[32m---> \u001b[39m\u001b[32m98\u001b[39m     \u001b[38;5;28;01mraise\u001b[39;00m \u001b[38;5;167;01mValueError\u001b[39;00m(\n\u001b[32m     99\u001b[39m         \u001b[33mf\u001b[39m\u001b[33m\"\u001b[39m\u001b[33mLength mismatch: Expected axis has \u001b[39m\u001b[38;5;132;01m{\u001b[39;00mold_len\u001b[38;5;132;01m}\u001b[39;00m\u001b[33m elements, new \u001b[39m\u001b[33m\"\u001b[39m\n\u001b[32m    100\u001b[39m         \u001b[33mf\u001b[39m\u001b[33m\"\u001b[39m\u001b[33mvalues have \u001b[39m\u001b[38;5;132;01m{\u001b[39;00mnew_len\u001b[38;5;132;01m}\u001b[39;00m\u001b[33m elements\u001b[39m\u001b[33m\"\u001b[39m\n\u001b[32m    101\u001b[39m     )\n",
      "\u001b[31mValueError\u001b[39m: Length mismatch: Expected axis has 7 elements, new values have 10 elements"
     ]
    }
   ],
   "source": [
    "import requests\n",
    "from bs4 import BeautifulSoup\n",
    "import pandas as pd\n",
    "import warnings\n",
    "import time\n",
    "warnings.filterwarnings(\"ignore\")\n",
    "\n",
    "pages = 5;\n",
    "code = '005930'  # Samsung Electronics\n",
    "\n",
    "def get_total_pages(code, pages=pages):\n",
    "    results = []\n",
    "    page = 1\n",
    "    last_date = None\n",
    "\n",
    "    for page in range(1, pages+1):\n",
    "        url = f\"https://finance.naver.com/item/sise_day.nhn?code={code}&page={page}\"\n",
    "        res = requests.get(url, headers={'User-Agent': 'Mozilla/5.0'}, verify=False)\n",
    "        soup = BeautifulSoup(res.text, 'html.parser')\n",
    "        table = soup.find('table', class_='type2')\n",
    "        df = pd.read_html(str(table))[0]\n",
    "        df = df.dropna()\n",
    "        if df.empty:\n",
    "            break\n",
    "        results.append(df)\n",
    "        # 종료 조건: 마지막 페이지에 도달하면 같은 날짜가 반복됨(더 이상 새로운 데이터 없음)\n",
    "        cur_last_date = df.iloc[-1, 0]\n",
    "        if last_date == cur_last_date:\n",
    "            break\n",
    "        last_date = cur_last_date\n",
    "        page += 1\n",
    "        time.sleep(0.5)  # 과도한 요청 방지\n",
    "\n",
    "    data = pd.concat(results)\n",
    "    data = data.dropna()\n",
    "    \n",
    "    colnames = data.columns.tolist()\n",
    "    print(colnames)\n",
    "    # 컬럼명 한글 → 영문 변환\n",
    "    data.columns = [\n",
    "        'Date', 'Close', 'Change', 'Volume',\n",
    "        'Foreign_Holdings', 'Foreign_Holdings_Ratio',\n",
    "        'Foreign_Net', 'Institution_Net', 'Individual_Net', 'Total_Net'\n",
    "    ]\n",
    "    data['Date'] = pd.to_datetime(data['Date'])\n",
    "    data = data.sort_values(by='Date', ascending=False).reset_index(drop=True)\n",
    "    return data\n",
    "    \n",
    "results = get_total_pages(code,5)\n",
    "results.head(5)\n",
    "print(f\"수집된 전체 일수: {len(results)}\")\n"
   ]
  },
  {
   "cell_type": "code",
   "execution_count": 26,
   "id": "a0f20494",
   "metadata": {},
   "outputs": [
    {
     "name": "stdout",
     "output_type": "stream",
     "text": [
      "['매도상위', '거래량', '매수상위', '거래량.1']\n"
     ]
    }
   ],
   "source": [
    "pages = 2\n",
    "code = '005930'  # Samsung Electronics\n",
    "\n",
    "all_data = []\n",
    "for page in range(1, pages + 1):\n",
    "    url = f\"https://finance.naver.com/item/frgn.naver?code={code}&page={page}\"\n",
    "    res = requests.get(url, headers={'User-Agent': 'Mozilla/5.0'}, verify=False)\n",
    "    soup = BeautifulSoup(res.text, \"html.parser\")\n",
    "    table = soup.find('table', class_='type2')\n",
    "    df = pd.read_html(str(table))[0]\n",
    "    all_data.append(df)\n",
    "    time.sleep(0.5)\n",
    "\n",
    "    data = pd.concat(all_data)\n",
    "    data = data.dropna()\n",
    "    \n",
    "colnames = data.columns.tolist()\n",
    "\n",
    "# 실제 컬럼 개수/이름 확인 (필요하면 print로 점검)\n",
    "print(data.columns.tolist())"
   ]
  },
  {
   "cell_type": "code",
   "execution_count": 18,
   "id": "cf001e63",
   "metadata": {},
   "outputs": [
    {
     "name": "stdout",
     "output_type": "stream",
     "text": [
      "['매도상위', '거래량', '매수상위', '거래량.1']\n"
     ]
    }
   ],
   "source": [
    " print(data.columns.tolist())"
   ]
  }
 ],
 "metadata": {
  "kernelspec": {
   "display_name": "Python 3",
   "language": "python",
   "name": "python3"
  },
  "language_info": {
   "codemirror_mode": {
    "name": "ipython",
    "version": 3
   },
   "file_extension": ".py",
   "mimetype": "text/x-python",
   "name": "python",
   "nbconvert_exporter": "python",
   "pygments_lexer": "ipython3",
   "version": "3.12.10"
  }
 },
 "nbformat": 4,
 "nbformat_minor": 5
}
